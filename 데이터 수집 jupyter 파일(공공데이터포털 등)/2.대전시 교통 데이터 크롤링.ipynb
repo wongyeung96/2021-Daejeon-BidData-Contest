{
 "cells": [
  {
   "cell_type": "code",
   "execution_count": 1,
   "metadata": {},
   "outputs": [
    {
     "name": "stdout",
     "output_type": "stream",
     "text": [
      "Requirement already satisfied: selenium in c:\\users\\kim won gyeung\\anaconda3\\lib\\site-packages (3.141.0)\n",
      "Requirement already satisfied: urllib3 in c:\\users\\kim won gyeung\\anaconda3\\lib\\site-packages (from selenium) (1.25.11)\n"
     ]
    }
   ],
   "source": [
    "!pip install selenium"
   ]
  },
  {
   "cell_type": "markdown",
   "metadata": {},
   "source": [
    "### 1. 대전 구간별 교통속도 데이터 크롤링\n",
    "\n",
    "사이트 : http://tportal.daejeon.go.kr/stats/content01.view?search=2"
   ]
  },
  {
   "cell_type": "code",
   "execution_count": 1,
   "metadata": {},
   "outputs": [],
   "source": [
    "# 대전시 교통 데이터 사이트 열기\n",
    "from selenium import webdriver\n",
    "import time\n",
    "\n",
    "# chrome 창(웹드라이버) 열기\n",
    "driver = webdriver.Chrome(\"C:/Users/Kim Won Gyeung/Desktop/chromedriver.exe\")\n",
    "\n",
    "# 실행할 웹페이지 불러오기\n",
    "driver.get(\"http://tportal.daejeon.go.kr/stats/content01.view?search=2\")"
   ]
  },
  {
   "cell_type": "code",
   "execution_count": 2,
   "metadata": {},
   "outputs": [],
   "source": [
    "# 날짜 설정\n",
    "day_button = driver.find_element_by_css_selector(\"#leftList > div.option1-1-2 > div:nth-child(3) > span:nth-child(1) > div > button\")\n",
    "day_button.click()\n",
    "\n",
    "time.sleep(3)\n",
    "\n",
    "# 5월 1일 선택\n",
    "button_5_1 = driver.find_element_by_css_selector(\"body > div:nth-child(7) > div.xdsoft_datepicker.active > div.xdsoft_calendar > table > tbody > tr:nth-child(1) > td.xdsoft_date.xdsoft_day_of_week6.xdsoft_date.xdsoft_weekend > div\")\n",
    "button_5_1.click()\n",
    "\n",
    "time.sleep(3)\n",
    "\n",
    "# 시간대 선택(7~8시)\n",
    "button_start_time = driver.find_element_by_css_selector(\"#stime\")\n",
    "button_start_time.click()\n",
    "\n",
    "start_time = driver.find_element_by_css_selector(\"#stime > option:nth-child(8)\")\n",
    "start_time.click()\n",
    "\n",
    "button_end_time = driver.find_element_by_css_selector(\"#etime\")\n",
    "button_end_time.click()\n",
    "\n",
    "end_time = driver.find_element_by_css_selector(\"#etime > option:nth-child(9)\")\n",
    "end_time.click()\n",
    "\n",
    "time.sleep(3)\n",
    "\n",
    "# 방향 선택(양방향)\n",
    "up_down = driver.find_element_by_css_selector(\"#leftList > div.option1-1-6 > label:nth-child(6)\")\n",
    "up_down.click()\n",
    "\n",
    "time.sleep(3)"
   ]
  },
  {
   "cell_type": "code",
   "execution_count": 5,
   "metadata": {},
   "outputs": [],
   "source": [
    "# 도로 선택 및 엑셀 저장 for 문\n",
    "not_excel_num = []\n",
    "for road_num in range(1,441):\n",
    "    try:\n",
    "        # 도로 선택(도로 총 440개)\n",
    "        road = driver.find_element_by_css_selector(\"#road\")\n",
    "        road.click()\n",
    "\n",
    "        road_choice = driver.find_element_by_css_selector(\"#road > option:nth-child({road_num})\".format(road_num=road_num))\n",
    "        road_choice.click()\n",
    "\n",
    "        time.sleep(3)\n",
    "\n",
    "        # 조회 클릭\n",
    "        search_button = driver.find_element_by_css_selector(\"#search\")\n",
    "        search_button.click()\n",
    "\n",
    "        time.sleep(3)\n",
    "\n",
    "        # 엑셀 저장 클릭\n",
    "        to_excel_button = driver.find_element_by_css_selector(\"#excelDown > span\")\n",
    "        to_excel_button.click()\n",
    "\n",
    "        time.sleep(3)\n",
    "    except:\n",
    "        not_excel_num.append(road_num)"
   ]
  },
  {
   "cell_type": "code",
   "execution_count": 4,
   "metadata": {},
   "outputs": [],
   "source": [
    "not_excel_num = [102, 224, 225, 308, 309, 385, 386, 401, 437, 439, 440]"
   ]
  },
  {
   "cell_type": "code",
   "execution_count": 5,
   "metadata": {},
   "outputs": [],
   "source": [
    "# excel로 불러오지 못한 number 다시 크롤링\n",
    "for road_num in not_excel_num:\n",
    "    try:\n",
    "        # 도로 선택(도로 총 440개)\n",
    "        road = driver.find_element_by_css_selector(\"#road\")\n",
    "        road.click()\n",
    "\n",
    "        road_choice = driver.find_element_by_css_selector(\"#road > option:nth-child({road_num})\".format(road_num=road_num))\n",
    "        road_choice.click()\n",
    "\n",
    "        time.sleep(3)\n",
    "\n",
    "        # 조회 클릭\n",
    "        search_button = driver.find_element_by_css_selector(\"#search\")\n",
    "        search_button.click()\n",
    "\n",
    "        time.sleep(3)\n",
    "\n",
    "        # 엑셀 저장 클릭\n",
    "        to_excel_button = driver.find_element_by_css_selector(\"#excelDown > span\")\n",
    "        to_excel_button.click()\n",
    "\n",
    "        time.sleep(3)\n",
    "    except:\n",
    "        not_excel_num.append(road_num)"
   ]
  },
  {
   "cell_type": "markdown",
   "metadata": {},
   "source": [
    "### 2. 크롤링한 데이터 합치기\n",
    "\n",
    "대전 오전 7,8시 속도 데이터 폴더에 있는 파일들을 다 불러와 하나의 엑셀로 만들기"
   ]
  },
  {
   "cell_type": "code",
   "execution_count": 11,
   "metadata": {},
   "outputs": [
    {
     "name": "stdout",
     "output_type": "stream",
     "text": [
      "Collecting pyexcel\n",
      "  Downloading pyexcel-0.6.6-py2.py3-none-any.whl (88 kB)\n",
      "Collecting pyexcel-xls\n",
      "  Downloading pyexcel_xls-0.6.2-py2.py3-none-any.whl (11 kB)\n",
      "Collecting pyexcel-xlsx\n",
      "  Downloading pyexcel_xlsx-0.6.0-py2.py3-none-any.whl (9.6 kB)\n",
      "Collecting pyexcel-io>=0.6.2\n",
      "  Downloading pyexcel_io-0.6.4-py2.py3-none-any.whl (44 kB)\n",
      "Collecting texttable>=0.8.2\n",
      "  Downloading texttable-1.6.3-py2.py3-none-any.whl (10 kB)\n",
      "Collecting lml>=0.0.4\n",
      "  Downloading lml-0.1.0-py2.py3-none-any.whl (10 kB)\n",
      "Requirement already satisfied: xlwt in c:\\users\\kim won gyeung\\anaconda3\\lib\\site-packages (from pyexcel-xls) (1.3.0)\n",
      "Requirement already satisfied: xlrd<2 in c:\\users\\kim won gyeung\\anaconda3\\lib\\site-packages (from pyexcel-xls) (1.2.0)\n",
      "Requirement already satisfied: openpyxl>=2.6.1 in c:\\users\\kim won gyeung\\anaconda3\\lib\\site-packages (from pyexcel-xlsx) (3.0.5)\n",
      "Requirement already satisfied: jdcal in c:\\users\\kim won gyeung\\anaconda3\\lib\\site-packages (from openpyxl>=2.6.1->pyexcel-xlsx) (1.4.1)\n",
      "Requirement already satisfied: et-xmlfile in c:\\users\\kim won gyeung\\anaconda3\\lib\\site-packages (from openpyxl>=2.6.1->pyexcel-xlsx) (1.0.1)\n",
      "Installing collected packages: lml, pyexcel-io, texttable, pyexcel, pyexcel-xls, pyexcel-xlsx\n",
      "Successfully installed lml-0.1.0 pyexcel-0.6.6 pyexcel-io-0.6.4 pyexcel-xls-0.6.2 pyexcel-xlsx-0.6.0 texttable-1.6.3\n"
     ]
    }
   ],
   "source": [
    "!pip install pyexcel pyexcel-xls pyexcel-xlsx"
   ]
  },
  {
   "cell_type": "code",
   "execution_count": 1,
   "metadata": {},
   "outputs": [
    {
     "name": "stdout",
     "output_type": "stream",
     "text": [
      "Process start\n",
      "process done\n"
     ]
    }
   ],
   "source": [
    "## \" test_folder\"에 있는 엑셀 파일을 합치기\n",
    "\n",
    "import time\n",
    "import os\n",
    "import pyexcel as px\n",
    "\n",
    "print(\"Process start\")\n",
    "start_time = time.time()\n",
    "\n",
    "## 폴더명 지정\n",
    "directory = \"C:/Users/Kim Won Gyeung/Desktop/공모전/2021 빅데이터 분석 및 아이디어 공모전/사용_데이터/new 대전 오전 7,8시 속도 데이터\"\n",
    "\n",
    "## 결과 파일명 지정\n",
    "outfile_name = \"ToTal.xlsx\"\n",
    "\n",
    "input_files = os.listdir(directory)\n",
    "\n",
    "CONTENTS = []\n",
    "\n",
    "for filename in input_files:\n",
    "    if \".xlsx\" not in filename:\n",
    "        continue\n",
    "    data_array = px.get_array(file_name=directory + \"/\" + filename)\n",
    "    \n",
    "    header = data_array[0]\n",
    "    data_array = data_array[1:]\n",
    "    \n",
    "    if len(CONTENTS) == 0:\n",
    "        CONTENTS.append(header)\n",
    "    \n",
    "    CONTENTS += data_array\n",
    "    \n",
    "    px.save_as(array= CONTENTS, dest_file_name = outfile_name)\n",
    "\n",
    "print(\"process done\")"
   ]
  },
  {
   "cell_type": "code",
   "execution_count": null,
   "metadata": {},
   "outputs": [],
   "source": []
  }
 ],
 "metadata": {
  "kernelspec": {
   "display_name": "Python 3",
   "language": "python",
   "name": "python3"
  },
  "language_info": {
   "codemirror_mode": {
    "name": "ipython",
    "version": 3
   },
   "file_extension": ".py",
   "mimetype": "text/x-python",
   "name": "python",
   "nbconvert_exporter": "python",
   "pygments_lexer": "ipython3",
   "version": "3.8.5"
  }
 },
 "nbformat": 4,
 "nbformat_minor": 4
}
