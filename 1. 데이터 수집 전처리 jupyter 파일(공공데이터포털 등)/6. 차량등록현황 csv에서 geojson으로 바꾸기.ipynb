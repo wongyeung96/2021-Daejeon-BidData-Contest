{
 "cells": [
  {
   "cell_type": "markdown",
   "metadata": {},
   "source": [
    "### 1. 데이터 불러오기"
   ]
  },
  {
   "cell_type": "code",
   "execution_count": 1,
   "metadata": {},
   "outputs": [],
   "source": [
    "import pandas as pd\n",
    "import geopandas as gpd\n",
    "from shapely.geometry import Point, Polygon, LineString"
   ]
  },
  {
   "cell_type": "code",
   "execution_count": 9,
   "metadata": {},
   "outputs": [],
   "source": [
    "car = pd.read_csv(\"C:/Users/Kim Won Gyeung/Desktop/공모전/2021 빅데이터 분석 및 아이디어 공모전/2.사용_데이터(정제데이터)/1.QGIS에 사용할 데이터(gid 가능데이터)/2.차량등록현황.csv\")\n",
    "geome = gpd.read_file(\"C:/Users/Kim Won Gyeung/Desktop/공모전/2021 빅데이터 분석 및 아이디어 공모전/2.사용_데이터(정제데이터)/1.QGIS에 사용할 데이터(gid 가능데이터)/1.대전광역시_건물연면적_격자.geojson\")"
   ]
  },
  {
   "cell_type": "code",
   "execution_count": 17,
   "metadata": {},
   "outputs": [
    {
     "data": {
      "text/html": [
       "<div>\n",
       "<style scoped>\n",
       "    .dataframe tbody tr th:only-of-type {\n",
       "        vertical-align: middle;\n",
       "    }\n",
       "\n",
       "    .dataframe tbody tr th {\n",
       "        vertical-align: top;\n",
       "    }\n",
       "\n",
       "    .dataframe thead th {\n",
       "        text-align: right;\n",
       "    }\n",
       "</style>\n",
       "<table border=\"1\" class=\"dataframe\">\n",
       "  <thead>\n",
       "    <tr style=\"text-align: right;\">\n",
       "      <th></th>\n",
       "      <th>gid</th>\n",
       "      <th>val</th>\n",
       "      <th>geometry</th>\n",
       "    </tr>\n",
       "  </thead>\n",
       "  <tbody>\n",
       "    <tr>\n",
       "      <th>0</th>\n",
       "      <td>다바866110</td>\n",
       "      <td>146.59</td>\n",
       "      <td>MULTIPOLYGON (((127.35076 36.29622, 127.35076 ...</td>\n",
       "    </tr>\n",
       "    <tr>\n",
       "      <th>1</th>\n",
       "      <td>다바823157</td>\n",
       "      <td>5944.98</td>\n",
       "      <td>MULTIPOLYGON (((127.30277 36.33853, 127.30276 ...</td>\n",
       "    </tr>\n",
       "    <tr>\n",
       "      <th>2</th>\n",
       "      <td>다바928260</td>\n",
       "      <td>1487.49</td>\n",
       "      <td>MULTIPOLYGON (((127.41967 36.43152, 127.41967 ...</td>\n",
       "    </tr>\n",
       "    <tr>\n",
       "      <th>3</th>\n",
       "      <td>다바931203</td>\n",
       "      <td>1291.19</td>\n",
       "      <td>MULTIPOLYGON (((127.42307 36.38013, 127.42307 ...</td>\n",
       "    </tr>\n",
       "    <tr>\n",
       "      <th>4</th>\n",
       "      <td>다바836109</td>\n",
       "      <td>12875.52</td>\n",
       "      <td>MULTIPOLYGON (((127.31735 36.29527, 127.31735 ...</td>\n",
       "    </tr>\n",
       "    <tr>\n",
       "      <th>...</th>\n",
       "      <td>...</td>\n",
       "      <td>...</td>\n",
       "      <td>...</td>\n",
       "    </tr>\n",
       "    <tr>\n",
       "      <th>54907</th>\n",
       "      <td>다바861065</td>\n",
       "      <td>NaN</td>\n",
       "      <td>MULTIPOLYGON (((127.34527 36.25565, 127.34527 ...</td>\n",
       "    </tr>\n",
       "    <tr>\n",
       "      <th>54908</th>\n",
       "      <td>다바912036</td>\n",
       "      <td>NaN</td>\n",
       "      <td>MULTIPOLYGON (((127.40208 36.22956, 127.40207 ...</td>\n",
       "    </tr>\n",
       "    <tr>\n",
       "      <th>54909</th>\n",
       "      <td>다바867189</td>\n",
       "      <td>NaN</td>\n",
       "      <td>MULTIPOLYGON (((127.35174 36.36745, 127.35174 ...</td>\n",
       "    </tr>\n",
       "    <tr>\n",
       "      <th>54910</th>\n",
       "      <td>다바851062</td>\n",
       "      <td>NaN</td>\n",
       "      <td>MULTIPOLYGON (((127.33415 36.25293, 127.33415 ...</td>\n",
       "    </tr>\n",
       "    <tr>\n",
       "      <th>54911</th>\n",
       "      <td>다바924104</td>\n",
       "      <td>NaN</td>\n",
       "      <td>MULTIPOLYGON (((127.41536 36.29088, 127.41536 ...</td>\n",
       "    </tr>\n",
       "  </tbody>\n",
       "</table>\n",
       "<p>54912 rows × 3 columns</p>\n",
       "</div>"
      ],
      "text/plain": [
       "            gid       val                                           geometry\n",
       "0      다바866110    146.59  MULTIPOLYGON (((127.35076 36.29622, 127.35076 ...\n",
       "1      다바823157   5944.98  MULTIPOLYGON (((127.30277 36.33853, 127.30276 ...\n",
       "2      다바928260   1487.49  MULTIPOLYGON (((127.41967 36.43152, 127.41967 ...\n",
       "3      다바931203   1291.19  MULTIPOLYGON (((127.42307 36.38013, 127.42307 ...\n",
       "4      다바836109  12875.52  MULTIPOLYGON (((127.31735 36.29527, 127.31735 ...\n",
       "...         ...       ...                                                ...\n",
       "54907  다바861065       NaN  MULTIPOLYGON (((127.34527 36.25565, 127.34527 ...\n",
       "54908  다바912036       NaN  MULTIPOLYGON (((127.40208 36.22956, 127.40207 ...\n",
       "54909  다바867189       NaN  MULTIPOLYGON (((127.35174 36.36745, 127.35174 ...\n",
       "54910  다바851062       NaN  MULTIPOLYGON (((127.33415 36.25293, 127.33415 ...\n",
       "54911  다바924104       NaN  MULTIPOLYGON (((127.41536 36.29088, 127.41536 ...\n",
       "\n",
       "[54912 rows x 3 columns]"
      ]
     },
     "execution_count": 17,
     "metadata": {},
     "output_type": "execute_result"
    }
   ],
   "source": [
    "geome"
   ]
  },
  {
   "cell_type": "markdown",
   "metadata": {},
   "source": [
    "### 2. gid 별 geometry를 car에 붙이기"
   ]
  },
  {
   "cell_type": "code",
   "execution_count": 13,
   "metadata": {},
   "outputs": [],
   "source": [
    "car_geometry = car.merge(geome,how=\"inner\",on='gid')"
   ]
  },
  {
   "cell_type": "code",
   "execution_count": 19,
   "metadata": {
    "scrolled": true
   },
   "outputs": [],
   "source": [
    "car_geometry = car_geometry.drop(['val'],axis=1)"
   ]
  },
  {
   "cell_type": "code",
   "execution_count": 20,
   "metadata": {},
   "outputs": [
    {
     "data": {
      "text/html": [
       "<div>\n",
       "<style scoped>\n",
       "    .dataframe tbody tr th:only-of-type {\n",
       "        vertical-align: middle;\n",
       "    }\n",
       "\n",
       "    .dataframe tbody tr th {\n",
       "        vertical-align: top;\n",
       "    }\n",
       "\n",
       "    .dataframe thead th {\n",
       "        text-align: right;\n",
       "    }\n",
       "</style>\n",
       "<table border=\"1\" class=\"dataframe\">\n",
       "  <thead>\n",
       "    <tr style=\"text-align: right;\">\n",
       "      <th></th>\n",
       "      <th>gid</th>\n",
       "      <th>cars_cnt</th>\n",
       "      <th>geometry</th>\n",
       "    </tr>\n",
       "  </thead>\n",
       "  <tbody>\n",
       "    <tr>\n",
       "      <th>0</th>\n",
       "      <td>다마846996</td>\n",
       "      <td>0</td>\n",
       "      <td>MULTIPOLYGON (((127.32871 36.19342, 127.32871 ...</td>\n",
       "    </tr>\n",
       "    <tr>\n",
       "      <th>1</th>\n",
       "      <td>다마847995</td>\n",
       "      <td>0</td>\n",
       "      <td>MULTIPOLYGON (((127.32983 36.19252, 127.32982 ...</td>\n",
       "    </tr>\n",
       "    <tr>\n",
       "      <th>2</th>\n",
       "      <td>다마847996</td>\n",
       "      <td>0</td>\n",
       "      <td>MULTIPOLYGON (((127.32982 36.19342, 127.32982 ...</td>\n",
       "    </tr>\n",
       "    <tr>\n",
       "      <th>3</th>\n",
       "      <td>다마847997</td>\n",
       "      <td>0</td>\n",
       "      <td>MULTIPOLYGON (((127.32982 36.19432, 127.32982 ...</td>\n",
       "    </tr>\n",
       "    <tr>\n",
       "      <th>4</th>\n",
       "      <td>다마847998</td>\n",
       "      <td>0</td>\n",
       "      <td>MULTIPOLYGON (((127.32982 36.19522, 127.32982 ...</td>\n",
       "    </tr>\n",
       "    <tr>\n",
       "      <th>...</th>\n",
       "      <td>...</td>\n",
       "      <td>...</td>\n",
       "      <td>...</td>\n",
       "    </tr>\n",
       "    <tr>\n",
       "      <th>54907</th>\n",
       "      <td>라바052223</td>\n",
       "      <td>0</td>\n",
       "      <td>MULTIPOLYGON (((127.55799 36.39818, 127.55799 ...</td>\n",
       "    </tr>\n",
       "    <tr>\n",
       "      <th>54908</th>\n",
       "      <td>라바052224</td>\n",
       "      <td>0</td>\n",
       "      <td>MULTIPOLYGON (((127.55799 36.39908, 127.55799 ...</td>\n",
       "    </tr>\n",
       "    <tr>\n",
       "      <th>54909</th>\n",
       "      <td>라바053222</td>\n",
       "      <td>0</td>\n",
       "      <td>MULTIPOLYGON (((127.55910 36.39727, 127.55910 ...</td>\n",
       "    </tr>\n",
       "    <tr>\n",
       "      <th>54910</th>\n",
       "      <td>라바053223</td>\n",
       "      <td>0</td>\n",
       "      <td>MULTIPOLYGON (((127.55910 36.39818, 127.55910 ...</td>\n",
       "    </tr>\n",
       "    <tr>\n",
       "      <th>54911</th>\n",
       "      <td>라바053224</td>\n",
       "      <td>0</td>\n",
       "      <td>MULTIPOLYGON (((127.55910 36.39908, 127.55911 ...</td>\n",
       "    </tr>\n",
       "  </tbody>\n",
       "</table>\n",
       "<p>54912 rows × 3 columns</p>\n",
       "</div>"
      ],
      "text/plain": [
       "            gid  cars_cnt                                           geometry\n",
       "0      다마846996         0  MULTIPOLYGON (((127.32871 36.19342, 127.32871 ...\n",
       "1      다마847995         0  MULTIPOLYGON (((127.32983 36.19252, 127.32982 ...\n",
       "2      다마847996         0  MULTIPOLYGON (((127.32982 36.19342, 127.32982 ...\n",
       "3      다마847997         0  MULTIPOLYGON (((127.32982 36.19432, 127.32982 ...\n",
       "4      다마847998         0  MULTIPOLYGON (((127.32982 36.19522, 127.32982 ...\n",
       "...         ...       ...                                                ...\n",
       "54907  라바052223         0  MULTIPOLYGON (((127.55799 36.39818, 127.55799 ...\n",
       "54908  라바052224         0  MULTIPOLYGON (((127.55799 36.39908, 127.55799 ...\n",
       "54909  라바053222         0  MULTIPOLYGON (((127.55910 36.39727, 127.55910 ...\n",
       "54910  라바053223         0  MULTIPOLYGON (((127.55910 36.39818, 127.55910 ...\n",
       "54911  라바053224         0  MULTIPOLYGON (((127.55910 36.39908, 127.55911 ...\n",
       "\n",
       "[54912 rows x 3 columns]"
      ]
     },
     "execution_count": 20,
     "metadata": {},
     "output_type": "execute_result"
    }
   ],
   "source": [
    "car_geometry"
   ]
  },
  {
   "cell_type": "markdown",
   "metadata": {},
   "source": [
    "### 2. geojson으로 변환"
   ]
  },
  {
   "cell_type": "code",
   "execution_count": 22,
   "metadata": {},
   "outputs": [],
   "source": [
    "car_geometry = gpd.GeoDataFrame(car_geometry)\n",
    "car_geometry.to_file('C:/Users/Kim Won Gyeung/Desktop/공모전/2021 빅데이터 분석 및 아이디어 공모전/2.사용_데이터(정제데이터)/1.QGIS에 사용할 데이터(gid 가능데이터)/1.대전_격자별_차량등록현황.geojson', driver='GeoJSON')"
   ]
  }
 ],
 "metadata": {
  "kernelspec": {
   "display_name": "Python 3",
   "language": "python",
   "name": "python3"
  },
  "language_info": {
   "codemirror_mode": {
    "name": "ipython",
    "version": 3
   },
   "file_extension": ".py",
   "mimetype": "text/x-python",
   "name": "python",
   "nbconvert_exporter": "python",
   "pygments_lexer": "ipython3",
   "version": "3.8.5"
  }
 },
 "nbformat": 4,
 "nbformat_minor": 4
}
