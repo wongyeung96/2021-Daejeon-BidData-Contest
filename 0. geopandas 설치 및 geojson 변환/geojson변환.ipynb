{
 "cells": [
  {
   "cell_type": "code",
   "execution_count": 1,
   "metadata": {},
   "outputs": [],
   "source": [
    "import pandas as pd\n",
    "from pandas import Series, DataFrame\n",
    "import folium #포리움 해결 아나콘다 프롬프트에 pip install folium 설치하면 됨\n",
    "import json\n",
    "import geopandas as gpd\n",
    "from shapely.geometry import Point, Polygon, LineString"
   ]
  },
  {
   "cell_type": "code",
   "execution_count": 3,
   "metadata": {},
   "outputs": [
    {
     "data": {
      "text/plain": [
       "'C:\\\\Users\\\\CPB06GameN\\\\Desktop\\\\대전파이썬'"
      ]
     },
     "execution_count": 3,
     "metadata": {},
     "output_type": "execute_result"
    }
   ],
   "source": [
    "#경로 설정\n",
    "import os\n",
    "#get current path\n",
    "path = os.getcwd()\n",
    "path\n",
    "#change path\n",
    "os.chdir('C:\\\\Users\\\\CPB06GameN\\\\Desktop\\\\대전파이썬')\n",
    "path"
   ]
  },
  {
   "cell_type": "code",
   "execution_count": 14,
   "metadata": {},
   "outputs": [],
   "source": [
    "data11 = pd.read_csv('11.대전광역시_동별_인구현황(2017~2019).csv')\n",
    "data12 = gpd.read_file('12.대전광역시_인구정보(총인구).geojson')\n",
    "data14 = gpd.read_file('14.대전광역시_인구정보(생산가능).geojson')\n",
    "data16 = pd.read_csv('16.대전광역시_기상데이터(2017~2019).csv')\n",
    "data23 = gpd.read_file('23.대전광역시_도로명주소(건물).geojson')\n",
    "data24 = gpd.read_file('24.대전광역시_건물연면적_격자.geojson')\n",
    "data25 = gpd.read_file('25.대전광역시_법정경계(시군구).geojson')\n",
    "data28 = gpd.read_file('28.대전광역시_연속지적도.geojson')\n",
    "data30 = gpd.read_file('30.대전광역시_차량등록현황_격자.geojson')"
   ]
  },
  {
   "cell_type": "code",
   "execution_count": 49,
   "metadata": {},
   "outputs": [],
   "source": [
    "df = pd.read_csv('숙박.csv',encoding='cp949')"
   ]
  },
  {
   "cell_type": "code",
   "execution_count": 50,
   "metadata": {},
   "outputs": [
    {
     "data": {
      "text/html": [
       "<div>\n",
       "<style scoped>\n",
       "    .dataframe tbody tr th:only-of-type {\n",
       "        vertical-align: middle;\n",
       "    }\n",
       "\n",
       "    .dataframe tbody tr th {\n",
       "        vertical-align: top;\n",
       "    }\n",
       "\n",
       "    .dataframe thead th {\n",
       "        text-align: right;\n",
       "    }\n",
       "</style>\n",
       "<table border=\"1\" class=\"dataframe\">\n",
       "  <thead>\n",
       "    <tr style=\"text-align: right;\">\n",
       "      <th></th>\n",
       "      <th>상호명</th>\n",
       "      <th>상권업종대분류명</th>\n",
       "      <th>상권업종중분류명</th>\n",
       "      <th>상권업종소분류명</th>\n",
       "      <th>표준산업분류명</th>\n",
       "      <th>시군구명</th>\n",
       "      <th>법정동명</th>\n",
       "      <th>도로명</th>\n",
       "      <th>경도</th>\n",
       "      <th>위도</th>\n",
       "    </tr>\n",
       "  </thead>\n",
       "  <tbody>\n",
       "    <tr>\n",
       "      <th>0</th>\n",
       "      <td>렉시모텔</td>\n",
       "      <td>숙박</td>\n",
       "      <td>모텔/여관/여인숙</td>\n",
       "      <td>모텔/여관/여인숙</td>\n",
       "      <td>여관업</td>\n",
       "      <td>유성구</td>\n",
       "      <td>봉명동</td>\n",
       "      <td>대전광역시 유성구 온천로107번길</td>\n",
       "      <td>127.350441</td>\n",
       "      <td>36.355954</td>\n",
       "    </tr>\n",
       "    <tr>\n",
       "      <th>1</th>\n",
       "      <td>양지여인숙</td>\n",
       "      <td>숙박</td>\n",
       "      <td>모텔/여관/여인숙</td>\n",
       "      <td>모텔/여관/여인숙</td>\n",
       "      <td>여관업</td>\n",
       "      <td>동구</td>\n",
       "      <td>원동</td>\n",
       "      <td>대전광역시 동구 창조1길</td>\n",
       "      <td>127.435232</td>\n",
       "      <td>36.328176</td>\n",
       "    </tr>\n",
       "    <tr>\n",
       "      <th>2</th>\n",
       "      <td>대전호텔박스</td>\n",
       "      <td>숙박</td>\n",
       "      <td>모텔/여관/여인숙</td>\n",
       "      <td>모텔/여관/여인숙</td>\n",
       "      <td>여관업</td>\n",
       "      <td>중구</td>\n",
       "      <td>대흥동</td>\n",
       "      <td>대전광역시 중구 대종로432번길</td>\n",
       "      <td>127.430352</td>\n",
       "      <td>36.323863</td>\n",
       "    </tr>\n",
       "    <tr>\n",
       "      <th>3</th>\n",
       "      <td>힐하우스펜션</td>\n",
       "      <td>숙박</td>\n",
       "      <td>캠프/별장/펜션</td>\n",
       "      <td>캠프/별장/펜션</td>\n",
       "      <td>기타 관광숙박시설 운영업</td>\n",
       "      <td>서구</td>\n",
       "      <td>장안동</td>\n",
       "      <td>대전광역시 서구 장안로</td>\n",
       "      <td>127.335160</td>\n",
       "      <td>36.210849</td>\n",
       "    </tr>\n",
       "    <tr>\n",
       "      <th>4</th>\n",
       "      <td>루체펜션</td>\n",
       "      <td>숙박</td>\n",
       "      <td>캠프/별장/펜션</td>\n",
       "      <td>캠프/별장/펜션</td>\n",
       "      <td>기타 관광숙박시설 운영업</td>\n",
       "      <td>서구</td>\n",
       "      <td>장안동</td>\n",
       "      <td>대전광역시 서구 장안로</td>\n",
       "      <td>127.339774</td>\n",
       "      <td>36.221708</td>\n",
       "    </tr>\n",
       "    <tr>\n",
       "      <th>...</th>\n",
       "      <td>...</td>\n",
       "      <td>...</td>\n",
       "      <td>...</td>\n",
       "      <td>...</td>\n",
       "      <td>...</td>\n",
       "      <td>...</td>\n",
       "      <td>...</td>\n",
       "      <td>...</td>\n",
       "      <td>...</td>\n",
       "      <td>...</td>\n",
       "    </tr>\n",
       "    <tr>\n",
       "      <th>646</th>\n",
       "      <td>자바모텔</td>\n",
       "      <td>숙박</td>\n",
       "      <td>모텔/여관/여인숙</td>\n",
       "      <td>모텔/여관/여인숙</td>\n",
       "      <td>여관업</td>\n",
       "      <td>동구</td>\n",
       "      <td>용전동</td>\n",
       "      <td>대전광역시 동구 동서대로1683번길</td>\n",
       "      <td>127.435688</td>\n",
       "      <td>36.351538</td>\n",
       "    </tr>\n",
       "    <tr>\n",
       "      <th>647</th>\n",
       "      <td>호텔아드리아</td>\n",
       "      <td>숙박</td>\n",
       "      <td>호텔/콘도</td>\n",
       "      <td>호텔/콘도</td>\n",
       "      <td>NaN</td>\n",
       "      <td>유성구</td>\n",
       "      <td>봉명동</td>\n",
       "      <td>대전광역시 유성구 온천로</td>\n",
       "      <td>127.340814</td>\n",
       "      <td>36.356001</td>\n",
       "    </tr>\n",
       "    <tr>\n",
       "      <th>648</th>\n",
       "      <td>코모텔레콤</td>\n",
       "      <td>숙박</td>\n",
       "      <td>모텔/여관/여인숙</td>\n",
       "      <td>모텔/여관/여인숙</td>\n",
       "      <td>여관업</td>\n",
       "      <td>서구</td>\n",
       "      <td>탄방동</td>\n",
       "      <td>대전광역시 서구 문정로</td>\n",
       "      <td>127.384104</td>\n",
       "      <td>36.347156</td>\n",
       "    </tr>\n",
       "    <tr>\n",
       "      <th>649</th>\n",
       "      <td>호텔7</td>\n",
       "      <td>숙박</td>\n",
       "      <td>모텔/여관/여인숙</td>\n",
       "      <td>모텔/여관/여인숙</td>\n",
       "      <td>여관업</td>\n",
       "      <td>중구</td>\n",
       "      <td>문창동</td>\n",
       "      <td>대전광역시 중구 문창로90번길</td>\n",
       "      <td>127.432933</td>\n",
       "      <td>36.321126</td>\n",
       "    </tr>\n",
       "    <tr>\n",
       "      <th>650</th>\n",
       "      <td>산들애펜션</td>\n",
       "      <td>숙박</td>\n",
       "      <td>캠프/별장/펜션</td>\n",
       "      <td>캠프/별장/펜션</td>\n",
       "      <td>기타 관광숙박시설 운영업</td>\n",
       "      <td>서구</td>\n",
       "      <td>장안동</td>\n",
       "      <td>대전광역시 서구 장안로</td>\n",
       "      <td>127.337351</td>\n",
       "      <td>36.212186</td>\n",
       "    </tr>\n",
       "  </tbody>\n",
       "</table>\n",
       "<p>651 rows × 10 columns</p>\n",
       "</div>"
      ],
      "text/plain": [
       "        상호명 상권업종대분류명   상권업종중분류명   상권업종소분류명        표준산업분류명 시군구명 법정동명  \\\n",
       "0      렉시모텔       숙박  모텔/여관/여인숙  모텔/여관/여인숙            여관업  유성구  봉명동   \n",
       "1     양지여인숙       숙박  모텔/여관/여인숙  모텔/여관/여인숙            여관업   동구   원동   \n",
       "2    대전호텔박스       숙박  모텔/여관/여인숙  모텔/여관/여인숙            여관업   중구  대흥동   \n",
       "3    힐하우스펜션       숙박   캠프/별장/펜션   캠프/별장/펜션  기타 관광숙박시설 운영업   서구  장안동   \n",
       "4      루체펜션       숙박   캠프/별장/펜션   캠프/별장/펜션  기타 관광숙박시설 운영업   서구  장안동   \n",
       "..      ...      ...        ...        ...            ...  ...  ...   \n",
       "646    자바모텔       숙박  모텔/여관/여인숙  모텔/여관/여인숙            여관업   동구  용전동   \n",
       "647  호텔아드리아       숙박      호텔/콘도      호텔/콘도            NaN  유성구  봉명동   \n",
       "648   코모텔레콤       숙박  모텔/여관/여인숙  모텔/여관/여인숙            여관업   서구  탄방동   \n",
       "649     호텔7       숙박  모텔/여관/여인숙  모텔/여관/여인숙            여관업   중구  문창동   \n",
       "650   산들애펜션       숙박   캠프/별장/펜션   캠프/별장/펜션  기타 관광숙박시설 운영업   서구  장안동   \n",
       "\n",
       "                     도로명          경도         위도  \n",
       "0     대전광역시 유성구 온천로107번길  127.350441  36.355954  \n",
       "1          대전광역시 동구 창조1길  127.435232  36.328176  \n",
       "2      대전광역시 중구 대종로432번길  127.430352  36.323863  \n",
       "3           대전광역시 서구 장안로  127.335160  36.210849  \n",
       "4           대전광역시 서구 장안로  127.339774  36.221708  \n",
       "..                   ...         ...        ...  \n",
       "646  대전광역시 동구 동서대로1683번길  127.435688  36.351538  \n",
       "647        대전광역시 유성구 온천로  127.340814  36.356001  \n",
       "648         대전광역시 서구 문정로  127.384104  36.347156  \n",
       "649     대전광역시 중구 문창로90번길  127.432933  36.321126  \n",
       "650         대전광역시 서구 장안로  127.337351  36.212186  \n",
       "\n",
       "[651 rows x 10 columns]"
      ]
     },
     "execution_count": 50,
     "metadata": {},
     "output_type": "execute_result"
    }
   ],
   "source": [
    "df"
   ]
  },
  {
   "cell_type": "code",
   "execution_count": 51,
   "metadata": {},
   "outputs": [],
   "source": [
    "df['geometry'] = df.apply(lambda row : Point([row['경도'], row['위도']]), axis=1)\n",
    "df = gpd.GeoDataFrame(df, geometry='geometry')"
   ]
  },
  {
   "cell_type": "code",
   "execution_count": 52,
   "metadata": {
    "scrolled": true
   },
   "outputs": [
    {
     "data": {
      "text/plain": [
       "0      POINT (127.35044 36.35595)\n",
       "1      POINT (127.43523 36.32818)\n",
       "2      POINT (127.43035 36.32386)\n",
       "3      POINT (127.33516 36.21085)\n",
       "4      POINT (127.33977 36.22171)\n",
       "                  ...            \n",
       "646    POINT (127.43569 36.35154)\n",
       "647    POINT (127.34081 36.35600)\n",
       "648    POINT (127.38410 36.34716)\n",
       "649    POINT (127.43293 36.32113)\n",
       "650    POINT (127.33735 36.21219)\n",
       "Name: geometry, Length: 651, dtype: geometry"
      ]
     },
     "execution_count": 52,
     "metadata": {},
     "output_type": "execute_result"
    }
   ],
   "source": [
    "df['geometry']"
   ]
  },
  {
   "cell_type": "code",
   "execution_count": 53,
   "metadata": {},
   "outputs": [],
   "source": [
    "df_geojson = gpd.GeoDataFrame(df)\n",
    "df_geojson.to_file('숙박.geojson', driver='GeoJSON')"
   ]
  },
  {
   "cell_type": "code",
   "execution_count": null,
   "metadata": {},
   "outputs": [],
   "source": []
  }
 ],
 "metadata": {
  "kernelspec": {
   "display_name": "Python 3",
   "language": "python",
   "name": "python3"
  },
  "language_info": {
   "codemirror_mode": {
    "name": "ipython",
    "version": 3
   },
   "file_extension": ".py",
   "mimetype": "text/x-python",
   "name": "python",
   "nbconvert_exporter": "python",
   "pygments_lexer": "ipython3",
   "version": "3.8.5"
  }
 },
 "nbformat": 4,
 "nbformat_minor": 4
}
