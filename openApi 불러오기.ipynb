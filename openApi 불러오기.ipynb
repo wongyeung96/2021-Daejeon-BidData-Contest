{
 "cells": [
  {
   "cell_type": "markdown",
   "metadata": {},
   "source": [
    "### 토지임야정보 데이터 설명\n",
    "\n",
    "대전광역시 행정구역코드(법정동코드) : 3000000000 ~ 3100000000 사이의 코드\n",
    "\n",
    "- 항목명\n",
    "1. pnu : 고유번호\n",
    "2. IdCode : 법정동코드\n",
    "3. IdCodeNm : 법정동명\n",
    "4. mnnmSlno : 지번\n",
    "5. lndcgrCode : 지목코드 - 토지의 주된 용도에 따라 토지의 종류를 구분한 지목코드\n",
    "\n",
    "    01: 전  02: 답  03: 과수원  04: 목장용지  05: 임야  06: 광천지\n",
    "   \n",
    "    07: 염전  08: 대  09: 공장용지  10: 학교용지  11: 주차장\n",
    "   \n",
    "    12: 주요소용지  13: 창고용지  14: 도로  15: 철도용지  16: 제방\n",
    "   \n",
    "    17: 하천  18: 구거  19: 유지  20: 양어장  21: 수도용지  22: 공원\n",
    "    \n",
    "    23: 체육용지  24: 유원지  25: 종교용지  26: 사적지  27: 묘지\n",
    "    \n",
    "    28: 잡종지\n",
    "    \n",
    "6. IndcgrCodeNm : 지목명 \n",
    "\n",
    "7. posesnSeCode : 소유구분코드 - 국토를 토지 소유권 취득 주체에 따라 구분한 코드\n",
    "    00 : 일본인, 창씨명 등  01 : 개인  02 : 국유지\n",
    "    \n",
    "    03 : 외국인, 외국공공기관  04 : 도유  05 : 군유지  06 : 법인\n",
    "    \n",
    "    07 : 종중  08 : 종교단체  09 : 기타단체\n",
    "    \n",
    "8. posesnSeCodeNm : 소유구분명 (ex. 법인)\n",
    "\n",
    "9. regstrSeCode : 대장구분코드 (ex.1 : 일반, 2 : 산)"
   ]
  },
  {
   "cell_type": "code",
   "execution_count": 1,
   "metadata": {},
   "outputs": [],
   "source": [
    "import requests, bs4\n",
    "import pandas as pd\n",
    "from lxml import html\n",
    "from urllib.request import Request, urlopen\n",
    "from urllib.parse import urlencode, quote_plus, unquote"
   ]
  },
  {
   "cell_type": "code",
   "execution_count": null,
   "metadata": {},
   "outputs": [],
   "source": [
    "Id_Code = [3023012600]"
   ]
  },
  {
   "cell_type": "code",
   "execution_count": null,
   "metadata": {},
   "outputs": [],
   "source": [
    "# 1. URL 파라미터 분리하기\n",
    "# Service URL\n",
    "xmlURL = \"http://apis.data.go.kr/1611000/nsdi/eios/LadfrlService/ladfrlList.xml\"\n",
    "\n",
    "My_API_Key = unquote(\"DZmq1Zbk1ohdHMUAi%2BysDvzhfimwdCa5S7Zkrstme%2FxcK33DZYmjRugvRb9JtpMh9Ef%2F1b%2FyYrm1ftXE891wIw%3D%3D\")\n",
    "\n",
    "queryParams = '?' + urlencode(   # get 방식으로 쿼리를 분리하기 위해 '?'를 넣은 것이다.\n",
    "    {\n",
    "        quote_plus('ServiceKey') : My_API_Key, # 필수 항목 1 : 서비스키(본인의 서비스키)\n",
    "        quote_plus('pnu') : , \n",
    "        \n",
    "    }\n",
    "\n",
    "\n",
    "\n",
    "\n",
    ")\n"
   ]
  }
 ],
 "metadata": {
  "kernelspec": {
   "display_name": "Python 3",
   "language": "python",
   "name": "python3"
  },
  "language_info": {
   "codemirror_mode": {
    "name": "ipython",
    "version": 3
   },
   "file_extension": ".py",
   "mimetype": "text/x-python",
   "name": "python",
   "nbconvert_exporter": "python",
   "pygments_lexer": "ipython3",
   "version": "3.8.5"
  }
 },
 "nbformat": 4,
 "nbformat_minor": 4
}
